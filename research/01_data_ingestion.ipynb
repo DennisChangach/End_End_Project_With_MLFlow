{
 "cells": [
  {
   "cell_type": "code",
   "execution_count": 1,
   "metadata": {},
   "outputs": [],
   "source": [
    "import os"
   ]
  },
  {
   "cell_type": "code",
   "execution_count": 2,
   "metadata": {},
   "outputs": [
    {
     "data": {
      "text/plain": [
       "'c:\\\\Users\\\\ADMIN\\\\Documents\\\\Data Analytics\\\\Machine Learning\\\\ML Projects\\\\End_End_Project_With_MLFlow\\\\research'"
      ]
     },
     "execution_count": 2,
     "metadata": {},
     "output_type": "execute_result"
    }
   ],
   "source": [
    "%pwd"
   ]
  },
  {
   "cell_type": "code",
   "execution_count": 3,
   "metadata": {},
   "outputs": [],
   "source": [
    "os.chdir(\"../\")"
   ]
  },
  {
   "cell_type": "code",
   "execution_count": 4,
   "metadata": {},
   "outputs": [
    {
     "data": {
      "text/plain": [
       "'c:\\\\Users\\\\ADMIN\\\\Documents\\\\Data Analytics\\\\Machine Learning\\\\ML Projects\\\\End_End_Project_With_MLFlow'"
      ]
     },
     "execution_count": 4,
     "metadata": {},
     "output_type": "execute_result"
    }
   ],
   "source": [
    "%pwd"
   ]
  },
  {
   "cell_type": "code",
   "execution_count": 5,
   "metadata": {},
   "outputs": [],
   "source": [
    "#Defining the Data Class Entity\n",
    "from dataclasses import dataclass\n",
    "from pathlib import Path\n",
    "\n",
    "\n",
    "@dataclass(frozen=True)\n",
    "class DataIngestionConfig:\n",
    "    root_dir: Path\n",
    "    source_URL: str\n",
    "    local_data_file: Path\n",
    "    unzip_dir: Path"
   ]
  },
  {
   "cell_type": "markdown",
   "metadata": {},
   "source": [
    "dataclass from the dataclasses module: Used to define a class that holds data with minimal boilerplate.\n",
    "Path from the pathlib module: Provides an object-oriented way to handle filesystem paths.\n",
    "\n",
    "Has four fields:\n",
    "- root_dir: The root directory where data will be managed.\n",
    "- source_URL: The URL from which data will be downloaded.\n",
    "- local_data_file: The local file path where the downloaded data will be stored.\n",
    "- unzip_dir: The directory where the downloaded file will be unzipped."
   ]
  },
  {
   "cell_type": "code",
   "execution_count": 6,
   "metadata": {},
   "outputs": [],
   "source": [
    "from mlProject.constants import * #import everything\n",
    "from mlProject.utils.common import read_yaml, create_directories"
   ]
  },
  {
   "cell_type": "code",
   "execution_count": 7,
   "metadata": {},
   "outputs": [],
   "source": [
    "class ConfigurationManager:\n",
    "    def __init__(\n",
    "        self,\n",
    "        config_filepath = CONFIG_FILE_PATH,\n",
    "        params_filepath = PARAMS_FILE_PATH,\n",
    "        schema_filepath = SCHEMA_FILE_PATH):\n",
    "\n",
    "        self.config = read_yaml(config_filepath)\n",
    "        self.params = read_yaml(params_filepath)\n",
    "        self.schema = read_yaml(schema_filepath)\n",
    "\n",
    "        create_directories([self.config.artifacts_root])\n",
    "\n",
    "\n",
    "    \n",
    "    def get_data_ingestion_config(self) -> DataIngestionConfig:\n",
    "        #Fetches the data_ingestion section from self.config.\n",
    "        config = self.config.data_ingestion\n",
    "\n",
    "        #Creates the root directory for data ingestion.\n",
    "        create_directories([config.root_dir])\n",
    "\n",
    "        #Instantiates a DataIngestionConfig object using the fetched configuration values.\n",
    "        data_ingestion_config = DataIngestionConfig(\n",
    "            root_dir=config.root_dir,\n",
    "            source_URL=config.source_URL,\n",
    "            local_data_file=config.local_data_file,\n",
    "            unzip_dir=config.unzip_dir \n",
    "        )\n",
    "        #Returns the DataIngestionConfig object.\n",
    "        return data_ingestion_config"
   ]
  },
  {
   "cell_type": "markdown",
   "metadata": {},
   "source": [
    "- The __init__ method takes three file paths as optional parameters for configuration, parameters, and schema files.\n",
    "- Reads these YAML files using a hypothetical read_yaml function and assigns them to self.config, self.params, and self.schema.\n",
    "- Creates directories as specified by self.config.artifacts_root."
   ]
  },
  {
   "cell_type": "code",
   "execution_count": 8,
   "metadata": {},
   "outputs": [],
   "source": [
    "import os\n",
    "import urllib.request as request\n",
    "import zipfile\n",
    "from mlProject import logger\n",
    "from mlProject.utils.common import get_size"
   ]
  },
  {
   "cell_type": "code",
   "execution_count": 9,
   "metadata": {},
   "outputs": [],
   "source": [
    "class DataIngestion:\n",
    "    def __init__(self, config: DataIngestionConfig):\n",
    "        self.config = config\n",
    "\n",
    "\n",
    "    \n",
    "    def download_file(self):\n",
    "        #Checks if the local data file already exists.\n",
    "        #If not, downloads the file from self.config.source_URL and saves it to self.config.local_data_file\n",
    "        if not os.path.exists(self.config.local_data_file):\n",
    "            filename, headers = request.urlretrieve(\n",
    "                url = self.config.source_URL,\n",
    "                filename = self.config.local_data_file\n",
    "            )\n",
    "            logger.info(f\"{filename} download! with following info: \\n{headers}\")\n",
    "        else:\n",
    "            logger.info(f\"File already exists of size: {get_size(Path(self.config.local_data_file))}\")\n",
    "\n",
    "\n",
    "\n",
    "    def extract_zip_file(self):\n",
    "        \"\"\"\n",
    "        zip_file_path: str\n",
    "        Extracts the zip file into the data directory\n",
    "        Function returns None\n",
    "        \"\"\"\n",
    "        unzip_path = self.config.unzip_dir\n",
    "        os.makedirs(unzip_path, exist_ok=True)\n",
    "        #Extracts the contents of the zip file located at self.config.local_data_file to the unzip_path.\n",
    "        with zipfile.ZipFile(self.config.local_data_file, 'r') as zip_ref:\n",
    "            zip_ref.extractall(unzip_path)\n",
    "  "
   ]
  },
  {
   "cell_type": "markdown",
   "metadata": {},
   "source": [
    "- The __init__ method takes a DataIngestionConfig object as a parameter and assigns it to self.config.\n"
   ]
  },
  {
   "cell_type": "code",
   "execution_count": 11,
   "metadata": {},
   "outputs": [
    {
     "name": "stdout",
     "output_type": "stream",
     "text": [
      "[2024-07-17 12:26:04,014: INFO: common: yaml file: config\\config.yaml loaded successfully]\n",
      "[2024-07-17 12:26:04,018: INFO: common: yaml file: params.yaml loaded successfully]\n",
      "[2024-07-17 12:26:04,021: INFO: common: yaml file: schema.yaml loaded successfully]\n",
      "[2024-07-17 12:26:04,023: INFO: common: created directory at: artifacts]\n",
      "[2024-07-17 12:26:04,025: INFO: common: created directory at: artifacts/data_ingestion]\n",
      "[2024-07-17 12:26:05,510: INFO: 2366278714: artifacts/data_ingestion/data.zip download! with following info: \n",
      "Connection: close\n",
      "Content-Length: 23329\n",
      "Cache-Control: max-age=300\n",
      "Content-Security-Policy: default-src 'none'; style-src 'unsafe-inline'; sandbox\n",
      "Content-Type: application/zip\n",
      "ETag: \"c69888a4ae59bc5a893392785a938ccd4937981c06ba8a9d6a21aa52b4ab5b6e\"\n",
      "Strict-Transport-Security: max-age=31536000\n",
      "X-Content-Type-Options: nosniff\n",
      "X-Frame-Options: deny\n",
      "X-XSS-Protection: 1; mode=block\n",
      "X-GitHub-Request-Id: 92FC:18B97A:2194DD:351839:66978E2D\n",
      "Accept-Ranges: bytes\n",
      "Date: Wed, 17 Jul 2024 09:26:05 GMT\n",
      "Via: 1.1 varnish\n",
      "X-Served-By: cache-jnb7025-JNB\n",
      "X-Cache: MISS\n",
      "X-Cache-Hits: 0\n",
      "X-Timer: S1721208365.380686,VS0,VE546\n",
      "Vary: Authorization,Accept-Encoding,Origin\n",
      "Access-Control-Allow-Origin: *\n",
      "Cross-Origin-Resource-Policy: cross-origin\n",
      "X-Fastly-Request-ID: dbc33a96718e15f7541f9b1c8057725eae79fcbb\n",
      "Expires: Wed, 17 Jul 2024 09:31:05 GMT\n",
      "Source-Age: 0\n",
      "\n",
      "]\n"
     ]
    }
   ],
   "source": [
    "try:\n",
    "    #Creates an instance of ConfigurationManager which reads the configuration files.\n",
    "    config = ConfigurationManager()\n",
    "    #Calls get_data_ingestion_config to get a DataIngestionConfig object.\n",
    "    data_ingestion_config = config.get_data_ingestion_config()\n",
    "    #Creates an instance of DataIngestion with the configuration.\n",
    "    data_ingestion = DataIngestion(config=data_ingestion_config)\n",
    "    #Calls download_file to download the data file.\n",
    "    data_ingestion.download_file()\n",
    "    #Calls extract_zip_file to extract the contents of the downloaded zip file.\n",
    "    data_ingestion.extract_zip_file()\n",
    "except Exception as e:\n",
    "    raise e"
   ]
  },
  {
   "cell_type": "code",
   "execution_count": null,
   "metadata": {},
   "outputs": [],
   "source": []
  }
 ],
 "metadata": {
  "kernelspec": {
   "display_name": "mlproj",
   "language": "python",
   "name": "python3"
  },
  "language_info": {
   "codemirror_mode": {
    "name": "ipython",
    "version": 3
   },
   "file_extension": ".py",
   "mimetype": "text/x-python",
   "name": "python",
   "nbconvert_exporter": "python",
   "pygments_lexer": "ipython3",
   "version": "3.10.0"
  },
  "orig_nbformat": 4
 },
 "nbformat": 4,
 "nbformat_minor": 2
}
